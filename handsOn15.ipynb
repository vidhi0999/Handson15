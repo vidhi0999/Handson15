{
 "cells": [
  {
   "cell_type": "code",
   "execution_count": 6,
   "id": "19e5cc5f",
   "metadata": {},
   "outputs": [
    {
     "name": "stdout",
     "output_type": "stream",
     "text": [
      "Shortest distances from s: {'s': 0, 'y': 5, 't': 8, 'x': 9, 'z': 7}\n"
     ]
    }
   ],
   "source": [
    "# dijkstra.py\n",
    "import heapq\n",
    "\n",
    "def dijkstra(graph, start):\n",
    "    distance = {node: float('inf') for node in graph}\n",
    "    distance[start] = 0\n",
    "    queue = [(0, start)]\n",
    "\n",
    "    while queue:\n",
    "        curr_distance, curr_node = heapq.heappop(queue)\n",
    "\n",
    "        if curr_distance > distance[curr_node]:\n",
    "            continue\n",
    "\n",
    "        for neighbor, weight in graph[curr_node]:\n",
    "            new_distance = curr_distance + weight\n",
    "            if new_distance < distance[neighbor]:\n",
    "                distance[neighbor] = new_distance\n",
    "                heapq.heappush(queue, (new_distance, neighbor))\n",
    "\n",
    "    return distance\n",
    "\n",
    "# Example\n",
    "if __name__ == \"__main__\":\n",
    "    graph = {\n",
    "        's': [('y', 5), ('t', 10)],\n",
    "        'y': [('t', 3), ('z', 2), ('x', 9)],\n",
    "        't': [('y', 2), ('x', 1)],\n",
    "        'x': [('z', 4)],\n",
    "        'z': [('x', 6), ('s', 7)]\n",
    "    }\n",
    "    start_node = 's'\n",
    "    distances = dijkstra(graph, start_node)\n",
    "    print(f\"Shortest distances from {start_node}: {distances}\")\n"
   ]
  },
  {
   "cell_type": "code",
   "execution_count": 7,
   "id": "29cde556",
   "metadata": {},
   "outputs": [
    {
     "name": "stdout",
     "output_type": "stream",
     "text": [
      "Shortest distances from s: {'s': 0, 'y': 5, 't': 8, 'x': 9, 'z': 7}\n"
     ]
    }
   ],
   "source": [
    "# bellman_ford.py\n",
    "def bellman_ford(edges, vertices, start):\n",
    "    distance = {vertex: float('inf') for vertex in vertices}\n",
    "    distance[start] = 0\n",
    "\n",
    "    for _ in range(len(vertices) - 1):\n",
    "        for u, v, w in edges:\n",
    "            if distance[u] + w < distance[v]:\n",
    "                distance[v] = distance[u] + w\n",
    "\n",
    "    # Check for negative weight cycle\n",
    "    for u, v, w in edges:\n",
    "        if distance[u] + w < distance[v]:\n",
    "            print(\"Graph contains a negative weight cycle\")\n",
    "            return None\n",
    "\n",
    "    return distance\n",
    "\n",
    "# Example\n",
    "if __name__ == \"__main__\":\n",
    "    edges = [\n",
    "        ('s', 'y', 5),\n",
    "        ('s', 't', 10),\n",
    "        ('y', 't', 3),\n",
    "        ('t', 'y', 2),\n",
    "        ('t', 'x', 1),\n",
    "        ('y', 'z', 2),\n",
    "        ('y', 'x', 9),\n",
    "        ('x', 'z', 4),\n",
    "        ('z', 'x', 6),\n",
    "        ('z', 's', 7)\n",
    "    ]\n",
    "    vertices = ['s', 'y', 't', 'x', 'z']\n",
    "    start_node = 's'\n",
    "    distances = bellman_ford(edges, vertices, start_node)\n",
    "    if distances:\n",
    "        print(f\"Shortest distances from {start_node}: {distances}\")\n"
   ]
  },
  {
   "cell_type": "code",
   "execution_count": 8,
   "id": "74cccaf8",
   "metadata": {},
   "outputs": [
    {
     "name": "stdout",
     "output_type": "stream",
     "text": [
      "Shortest distance matrix:\n",
      "s → s = 0 | s → y = 5 | s → t = 8 | s → x = 9 | s → z = 7 | \n",
      "y → s = 9 | y → y = 0 | y → t = 3 | y → x = 4 | y → z = 2 | \n",
      "t → s = 11 | t → y = 2 | t → t = 0 | t → x = 1 | t → z = 4 | \n",
      "x → s = 11 | x → y = 16 | x → t = 19 | x → x = 0 | x → z = 4 | \n",
      "z → s = 7 | z → y = 12 | z → t = 15 | z → x = 6 | z → z = 0 | \n"
     ]
    }
   ],
   "source": [
    "# floyd_warshall.py\n",
    "def floyd_warshall(matrix, vertices):\n",
    "    n = len(matrix)\n",
    "    dist = [row[:] for row in matrix]\n",
    "\n",
    "    for k in range(n):\n",
    "        for i in range(n):\n",
    "            for j in range(n):\n",
    "                if dist[i][k] + dist[k][j] < dist[i][j]:\n",
    "                    dist[i][j] = dist[i][k] + dist[k][j]\n",
    "\n",
    "    return dist\n",
    "\n",
    "# Example\n",
    "if __name__ == \"__main__\":\n",
    "    INF = float('inf')\n",
    "    vertices = ['s', 'y', 't', 'x', 'z']\n",
    "    index = {v: i for i, v in enumerate(vertices)}\n",
    "\n",
    "    # Matrix where index order is s, y, t, x, z\n",
    "    matrix = [\n",
    "        [0,   5, 10, INF, INF],   # s\n",
    "        [INF, 0, 3, 9, 2],        # y\n",
    "        [INF, 2, 0, 1, INF],      # t\n",
    "        [INF, INF, INF, 0, 4],    # x\n",
    "        [7, INF, INF, 6, 0]       # z\n",
    "    ]\n",
    "\n",
    "    shortest_paths = floyd_warshall(matrix, vertices)\n",
    "\n",
    "    print(\"Shortest distance matrix:\")\n",
    "    for i in range(len(vertices)):\n",
    "        for j in range(len(vertices)):\n",
    "            if shortest_paths[i][j] == INF:\n",
    "                print(f\"{vertices[i]} → {vertices[j]} = INF\", end=\" | \")\n",
    "            else:\n",
    "                print(f\"{vertices[i]} → {vertices[j]} = {shortest_paths[i][j]}\", end=\" | \")\n",
    "        print()\n"
   ]
  }
 ],
 "metadata": {
  "kernelspec": {
   "display_name": "base",
   "language": "python",
   "name": "python3"
  },
  "language_info": {
   "codemirror_mode": {
    "name": "ipython",
    "version": 3
   },
   "file_extension": ".py",
   "mimetype": "text/x-python",
   "name": "python",
   "nbconvert_exporter": "python",
   "pygments_lexer": "ipython3",
   "version": "3.12.7"
  }
 },
 "nbformat": 4,
 "nbformat_minor": 5
}
